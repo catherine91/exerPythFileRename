{
 "cells": [
  {
   "cell_type": "code",
   "execution_count": 1,
   "metadata": {},
   "outputs": [],
   "source": [
    "import os"
   ]
  },
  {
   "cell_type": "code",
   "execution_count": 2,
   "metadata": {},
   "outputs": [
    {
     "name": "stdout",
     "output_type": "stream",
     "text": [
      "/Users/catherinethegreat/Desktop/Python renaming files/exerPythFileRename/textfiles\n"
     ]
    }
   ],
   "source": [
    "os.chdir('./textfiles')\n",
    "print(os.getcwd())"
   ]
  },
  {
   "cell_type": "code",
   "execution_count": 3,
   "metadata": {},
   "outputs": [
    {
     "name": "stdout",
     "output_type": "stream",
     "text": [
      "Venus - Our solar system - #3.txt\n",
      "Mercury - Our solar system - #2.txt\n",
      "Mars - Our solar system - #5.txt\n",
      "Pluto - Our solar system - #10.txt\n",
      "Neptune - Our solar system - #8.txt\n",
      "Jupiter - Our solar system - #6.txt\n",
      "Uranus - Our solar system - #9.txt\n",
      "Earth - Our solar system - #4.txt\n",
      "Saturn - Our solar system - #7.txt\n",
      "The Sun - Our solar system - #1.txt\n"
     ]
    }
   ],
   "source": [
    "for f in os.listdir():\n",
    "    print(f)"
   ]
  },
  {
   "cell_type": "code",
   "execution_count": 4,
   "metadata": {},
   "outputs": [
    {
     "name": "stdout",
     "output_type": "stream",
     "text": [
      "('Venus - Our solar system - #3', '.txt')\n",
      "('Mercury - Our solar system - #2', '.txt')\n",
      "('Mars - Our solar system - #5', '.txt')\n",
      "('Pluto - Our solar system - #10', '.txt')\n",
      "('Neptune - Our solar system - #8', '.txt')\n",
      "('Jupiter - Our solar system - #6', '.txt')\n",
      "('Uranus - Our solar system - #9', '.txt')\n",
      "('Earth - Our solar system - #4', '.txt')\n",
      "('Saturn - Our solar system - #7', '.txt')\n",
      "('The Sun - Our solar system - #1', '.txt')\n"
     ]
    }
   ],
   "source": [
    "for f in os.listdir():\n",
    "    print(os.path.splitext(f))"
   ]
  },
  {
   "cell_type": "code",
   "execution_count": 5,
   "metadata": {},
   "outputs": [
    {
     "name": "stdout",
     "output_type": "stream",
     "text": [
      "Venus - Our solar system - #3\n",
      "Mercury - Our solar system - #2\n",
      "Mars - Our solar system - #5\n",
      "Pluto - Our solar system - #10\n",
      "Neptune - Our solar system - #8\n",
      "Jupiter - Our solar system - #6\n",
      "Uranus - Our solar system - #9\n",
      "Earth - Our solar system - #4\n",
      "Saturn - Our solar system - #7\n",
      "The Sun - Our solar system - #1\n"
     ]
    }
   ],
   "source": [
    "for f in os.listdir():\n",
    "    file_name, file_ext = os.path.splitext(f)\n",
    "    print(file_name)"
   ]
  },
  {
   "cell_type": "code",
   "execution_count": 6,
   "metadata": {},
   "outputs": [
    {
     "name": "stdout",
     "output_type": "stream",
     "text": [
      "['Venus ', ' Our solar system ', ' #3']\n",
      "['Mercury ', ' Our solar system ', ' #2']\n",
      "['Mars ', ' Our solar system ', ' #5']\n",
      "['Pluto ', ' Our solar system ', ' #10']\n",
      "['Neptune ', ' Our solar system ', ' #8']\n",
      "['Jupiter ', ' Our solar system ', ' #6']\n",
      "['Uranus ', ' Our solar system ', ' #9']\n",
      "['Earth ', ' Our solar system ', ' #4']\n",
      "['Saturn ', ' Our solar system ', ' #7']\n",
      "['The Sun ', ' Our solar system ', ' #1']\n"
     ]
    }
   ],
   "source": [
    "for f in os.listdir():\n",
    "    file_name, file_ext = os.path.splitext(f)\n",
    "    print(file_name.split('-'))"
   ]
  },
  {
   "cell_type": "code",
   "execution_count": 7,
   "metadata": {},
   "outputs": [
    {
     "name": "stdout",
     "output_type": "stream",
     "text": [
      "Venus \n",
      "Mercury \n",
      "Mars \n",
      "Pluto \n",
      "Neptune \n",
      "Jupiter \n",
      "Uranus \n",
      "Earth \n",
      "Saturn \n",
      "The Sun \n"
     ]
    }
   ],
   "source": [
    "for f in os.listdir():\n",
    "    file_name, file_ext = os.path.splitext(f)\n",
    "    f_title, f_course, f_num = file_name.split('-')\n",
    "    print(f_title)"
   ]
  },
  {
   "cell_type": "code",
   "execution_count": 8,
   "metadata": {},
   "outputs": [
    {
     "name": "stdout",
     "output_type": "stream",
     "text": [
      "#3-Our solar system-Venus.txt\n",
      "#2-Our solar system-Mercury.txt\n",
      "#5-Our solar system-Mars.txt\n",
      "#10-Our solar system-Pluto.txt\n",
      "#8-Our solar system-Neptune.txt\n",
      "#6-Our solar system-Jupiter.txt\n",
      "#9-Our solar system-Uranus.txt\n",
      "#4-Our solar system-Earth.txt\n",
      "#7-Our solar system-Saturn.txt\n",
      "#1-Our solar system-The Sun.txt\n"
     ]
    },
    {
     "data": {
      "text/plain": [
       "0"
      ]
     },
     "execution_count": 8,
     "metadata": {},
     "output_type": "execute_result"
    }
   ],
   "source": [
    "for f in os.listdir():\n",
    "    f_name, f_ext = os.path.splitext(f)\n",
    "    f_title, f_course, f_num = f_name.split('-')\n",
    "    f_title = f_title.strip()\n",
    "    f_course = f_course.strip()\n",
    "    f_num = f_num.strip()\n",
    "    print('{}-{}-{}{}'.format(f_num, f_course, f_title, f_ext))\n",
    "    \n",
    "arr = [0, 1, 2, 3, 4, 5]\n",
    "arr[0]                                      \n",
    "                                        "
   ]
  },
  {
   "cell_type": "code",
   "execution_count": 9,
   "metadata": {},
   "outputs": [
    {
     "name": "stdout",
     "output_type": "stream",
     "text": [
      "03-Our solar system-Venus.txt\n",
      "02-Our solar system-Mercury.txt\n",
      "05-Our solar system-Mars.txt\n",
      "10-Our solar system-Pluto.txt\n",
      "08-Our solar system-Neptune.txt\n",
      "06-Our solar system-Jupiter.txt\n",
      "09-Our solar system-Uranus.txt\n",
      "04-Our solar system-Earth.txt\n",
      "07-Our solar system-Saturn.txt\n",
      "01-Our solar system-The Sun.txt\n"
     ]
    }
   ],
   "source": [
    "for f in os.listdir():\n",
    "    f_name, f_ext = os.path.splitext(f)\n",
    "    f_title, f_course, f_num = f_name.split('-')\n",
    "    f_title = f_title.strip()\n",
    "    f_course = f_course.strip()\n",
    "    f_num = f_num.strip()[1:].zfill(2)\n",
    "    print('{}-{}-{}{}'. format(f_num, f_course, f_title, f_ext))"
   ]
  },
  {
   "cell_type": "code",
   "execution_count": 10,
   "metadata": {
    "scrolled": true
   },
   "outputs": [
    {
     "name": "stdout",
     "output_type": "stream",
     "text": [
      "03-Venus.txt\n",
      "02-Mercury.txt\n",
      "05-Mars.txt\n",
      "10-Pluto.txt\n",
      "08-Neptune.txt\n",
      "06-Jupiter.txt\n",
      "09-Uranus.txt\n",
      "04-Earth.txt\n",
      "07-Saturn.txt\n",
      "01-The Sun.txt\n"
     ]
    }
   ],
   "source": [
    "for f in os.listdir():\n",
    "    f_name, f_ext = os.path.splitext(f)\n",
    "    f_title, f_course, f_num = f_name.split('-')\n",
    "    f_title = f_title.strip()\n",
    "    f_course = f_course.strip()\n",
    "    f_num = f_num.strip()[1:].zfill(2)\n",
    "    print('{}-{}{}'.format(f_num, f_title, f_ext))"
   ]
  },
  {
   "cell_type": "code",
   "execution_count": 11,
   "metadata": {},
   "outputs": [],
   "source": [
    "#for f in os.listdir():\n",
    "#    f_name, f_ext = os.path.splitext(f)\n",
    "#    f_title, f_course, f_num = f_name.split('-')\n",
    "#    f_title = f_title.strip()\n",
    "#    f_course = f_course.strip()\n",
    "#    f_num = f_num.strip()[1:].zfill(2)\n",
    "#    new_name = ('{}-{}-{}'. format(f_num, f_title, f_ext))\n",
    "#    os.rename(f, new_name)"
   ]
  },
  {
   "cell_type": "code",
   "execution_count": null,
   "metadata": {},
   "outputs": [],
   "source": []
  }
 ],
 "metadata": {
  "kernelspec": {
   "display_name": "Python 3.8.5 64-bit",
   "language": "python",
   "name": "python38564bit7c1b51c5d2f849219854608b4bd4ac0c"
  },
  "language_info": {
   "codemirror_mode": {
    "name": "ipython",
    "version": 3
   },
   "file_extension": ".py",
   "mimetype": "text/x-python",
   "name": "python",
   "nbconvert_exporter": "python",
   "pygments_lexer": "ipython3",
   "version": "3.8.5"
  }
 },
 "nbformat": 4,
 "nbformat_minor": 4
}
